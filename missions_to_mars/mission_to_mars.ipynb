{
 "cells": [
  {
   "cell_type": "code",
   "execution_count": 1,
   "metadata": {},
   "outputs": [],
   "source": [
    "#dependencies\n",
    "from bs4 import BeautifulSoup as bs\n",
    "import requests\n",
    "from splinter import Browser\n",
    "import time"
   ]
  },
  {
   "cell_type": "code",
   "execution_count": 2,
   "metadata": {},
   "outputs": [],
   "source": [
    "#initialize the browser object\n",
    "executable_path = {'executable_path': 'chromedriver.exe'}\n",
    "browser = Browser('chrome', **executable_path, headless=False)"
   ]
  },
  {
   "cell_type": "markdown",
   "metadata": {},
   "source": [
    "# NASA Mars News"
   ]
  },
  {
   "cell_type": "code",
   "execution_count": 3,
   "metadata": {},
   "outputs": [],
   "source": [
    "#use splinter to visit the nasa website\n",
    "url = 'https://mars.nasa.gov/news/'\n",
    "browser.visit(url)"
   ]
  },
  {
   "cell_type": "code",
   "execution_count": 4,
   "metadata": {},
   "outputs": [
    {
     "name": "stdout",
     "output_type": "stream",
     "text": [
      "The most current article on NASA.gov is \"NASA's New Mars Rover Is Ready for Space Lasers.\" \n",
      "The article, \"NASA's New Mars Rover Is Ready for Space Lasers,\" is about Perseverance is one of a few Mars spacecraft carrying laser retroreflectors. The devices could provide new science and safer Mars landings in the future.\n"
     ]
    }
   ],
   "source": [
    "#Create html object\n",
    "html = browser.html\n",
    "\n",
    "#Create BeautifulSoup object; parse with 'html.parser'\n",
    "soup = bs(html, 'html.parser')\n",
    "\n",
    "#use 'list_text' followed by 'content_title' otherwise the first return is \"Mars Now\" (a hyperlink in the dropdown menu)\n",
    "news_title = soup.find('div', class_='list_text').find('div', class_='content_title').text\n",
    "print(f'The most current article on NASA.gov is \"{news_title}.\" ')\n",
    "\n",
    "#extract the teaser paragraph for the first article\n",
    "news_p = soup.find('div', class_='article_teaser_body').text\n",
    "print(f'The article, \"{news_title},\" is about {news_p}')"
   ]
  },
  {
   "cell_type": "markdown",
   "metadata": {},
   "source": [
    "# JPL Mars Space Images - Featured Image"
   ]
  },
  {
   "cell_type": "code",
   "execution_count": 5,
   "metadata": {},
   "outputs": [],
   "source": [
    "#use splinter to visit the space images website\n",
    "featured_url = 'https://www.jpl.nasa.gov/spaceimages'\n",
    "browser.visit(featured_url)"
   ]
  },
  {
   "cell_type": "code",
   "execution_count": 6,
   "metadata": {},
   "outputs": [
    {
     "name": "stdout",
     "output_type": "stream",
     "text": [
      "https://www.jpl.nasa.gov/spaceimages/images/largesize/PIA19334_hires.jpg\n"
     ]
    }
   ],
   "source": [
    "#Create html object\n",
    "image_html = browser.html\n",
    "\n",
    "#Create BeautifulSoup object; parse with 'html.parser'\n",
    "soup = bs(image_html, 'html.parser')\n",
    "\n",
    "#use splinter to click on 'full image' button\n",
    "featured_image_link = browser.find_by_id(\"full_image\")\n",
    "featured_image_link.click()\n",
    "\n",
    "#allow execution to be suspended for 2 seconds\n",
    "time.sleep(2)\n",
    "full_image = browser.links.find_by_partial_text('more info')\n",
    "full_image.click()\n",
    "\n",
    "#create html object again, create bs object, parse with html.parser\n",
    "image_html = browser.html\n",
    "soup = bs(image_html, 'html.parser')\n",
    "\n",
    "#identify url using 'parent' figure, 'child' a, then pulling href\n",
    "link = soup.find('figure').find('a').get('href')\n",
    "# print(link)\n",
    "\n",
    "#combine original url with image url to create image link\n",
    "landing_url = 'https://www.jpl.nasa.gov'\n",
    "featured_image_url = landing_url + link\n",
    "print (featured_image_url)"
   ]
  },
  {
   "cell_type": "markdown",
   "metadata": {},
   "source": [
    "# Mars Facts"
   ]
  },
  {
   "cell_type": "code",
   "execution_count": 9,
   "metadata": {},
   "outputs": [
    {
     "data": {
      "text/html": [
       "<div>\n",
       "<style scoped>\n",
       "    .dataframe tbody tr th:only-of-type {\n",
       "        vertical-align: middle;\n",
       "    }\n",
       "\n",
       "    .dataframe tbody tr th {\n",
       "        vertical-align: top;\n",
       "    }\n",
       "\n",
       "    .dataframe thead th {\n",
       "        text-align: right;\n",
       "    }\n",
       "</style>\n",
       "<table border=\"1\" class=\"dataframe\">\n",
       "  <thead>\n",
       "    <tr style=\"text-align: right;\">\n",
       "      <th></th>\n",
       "      <th>Description</th>\n",
       "      <th>Value</th>\n",
       "    </tr>\n",
       "  </thead>\n",
       "  <tbody>\n",
       "    <tr>\n",
       "      <th>0</th>\n",
       "      <td>Equatorial Diameter:</td>\n",
       "      <td>6,792 km</td>\n",
       "    </tr>\n",
       "    <tr>\n",
       "      <th>1</th>\n",
       "      <td>Polar Diameter:</td>\n",
       "      <td>6,752 km</td>\n",
       "    </tr>\n",
       "    <tr>\n",
       "      <th>2</th>\n",
       "      <td>Mass:</td>\n",
       "      <td>6.39 × 10^23 kg (0.11 Earths)</td>\n",
       "    </tr>\n",
       "    <tr>\n",
       "      <th>3</th>\n",
       "      <td>Moons:</td>\n",
       "      <td>2 (Phobos &amp; Deimos)</td>\n",
       "    </tr>\n",
       "    <tr>\n",
       "      <th>4</th>\n",
       "      <td>Orbit Distance:</td>\n",
       "      <td>227,943,824 km (1.38 AU)</td>\n",
       "    </tr>\n",
       "    <tr>\n",
       "      <th>5</th>\n",
       "      <td>Orbit Period:</td>\n",
       "      <td>687 days (1.9 years)</td>\n",
       "    </tr>\n",
       "    <tr>\n",
       "      <th>6</th>\n",
       "      <td>Surface Temperature:</td>\n",
       "      <td>-87 to -5 °C</td>\n",
       "    </tr>\n",
       "    <tr>\n",
       "      <th>7</th>\n",
       "      <td>First Record:</td>\n",
       "      <td>2nd millennium BC</td>\n",
       "    </tr>\n",
       "    <tr>\n",
       "      <th>8</th>\n",
       "      <td>Recorded By:</td>\n",
       "      <td>Egyptian astronomers</td>\n",
       "    </tr>\n",
       "  </tbody>\n",
       "</table>\n",
       "</div>"
      ],
      "text/plain": [
       "            Description                          Value\n",
       "0  Equatorial Diameter:                       6,792 km\n",
       "1       Polar Diameter:                       6,752 km\n",
       "2                 Mass:  6.39 × 10^23 kg (0.11 Earths)\n",
       "3                Moons:            2 (Phobos & Deimos)\n",
       "4       Orbit Distance:       227,943,824 km (1.38 AU)\n",
       "5         Orbit Period:           687 days (1.9 years)\n",
       "6  Surface Temperature:                   -87 to -5 °C\n",
       "7         First Record:              2nd millennium BC\n",
       "8          Recorded By:           Egyptian astronomers"
      ]
     },
     "execution_count": 9,
     "metadata": {},
     "output_type": "execute_result"
    }
   ],
   "source": [
    "import pandas as pd\n",
    "\n",
    "#identify link for next scrape\n",
    "facts_url = 'https://space-facts.com/mars/' \n",
    "\n",
    "#use pandas to read the table from the webpage above\n",
    "tables = pd.read_html(facts_url)\n",
    "\n",
    "#print table from website\n",
    "# tables[0]\n",
    "\n",
    "mars_info_df = tables[0]\n",
    "\n",
    "#change column headers\n",
    "mars_info_df.columns = ['Description', 'Value']\n",
    "# mars_info_df.head()\n",
    "\n",
    "#save table and info, along with headers, to files\n",
    "mars_facts_table = mars_info_df.to_html('mars_facts_table.html')\n",
    "\n",
    "mars_info_df"
   ]
  },
  {
   "cell_type": "markdown",
   "metadata": {},
   "source": [
    "# Mars Hemispheres"
   ]
  },
  {
   "cell_type": "code",
   "execution_count": 10,
   "metadata": {},
   "outputs": [],
   "source": [
    "#use splinter to visit the space images website\n",
    "hemisphere_url = 'https://astrogeology.usgs.gov/search/results?q=hemisphere+enhanced&k1=target&v1=Mars'\n",
    "browser.visit(hemisphere_url)"
   ]
  },
  {
   "cell_type": "code",
   "execution_count": 11,
   "metadata": {},
   "outputs": [
    {
     "data": {
      "text/plain": [
       "[{'title': 'Cerberus Hemisphere ',\n",
       "  'img_url': 'https://astrogeology.usgs.gov/cache/images/f5e372a36edfa389625da6d0cc25d905_cerberus_enhanced.tif_full.jpg'},\n",
       " {'title': 'Schiaparelli Hemisphere ',\n",
       "  'img_url': 'https://astrogeology.usgs.gov/cache/images/3778f7b43bbbc89d6e3cfabb3613ba93_schiaparelli_enhanced.tif_full.jpg'},\n",
       " {'title': 'Syrtis Major Hemisphere ',\n",
       "  'img_url': 'https://astrogeology.usgs.gov/cache/images/555e6403a6ddd7ba16ddb0e471cadcf7_syrtis_major_enhanced.tif_full.jpg'},\n",
       " {'title': 'Valles Marineris Hemisphere ',\n",
       "  'img_url': 'https://astrogeology.usgs.gov/cache/images/b3c7c6c9138f57b4756be9b9c43e3a48_valles_marineris_enhanced.tif_full.jpg'}]"
      ]
     },
     "execution_count": 11,
     "metadata": {},
     "output_type": "execute_result"
    }
   ],
   "source": [
    "image_html = browser.html\n",
    "soup = bs(image_html, 'html.parser')\n",
    "\n",
    "hemispheres = soup.find_all('div', class_='item')\n",
    "\n",
    "hemisphere_urls = []\n",
    "main_link = 'https://astrogeology.usgs.gov'\n",
    "\n",
    "for h in hemispheres:\n",
    "    #get the title of each image\n",
    "    title = h.find('h3').text.strip('Enhanced')\n",
    "    #pull links for images\n",
    "    end_link = h.find(\"a\").get(\"href\")\n",
    "    #combine main and end links for new browser visit\n",
    "    browser.visit(main_link + end_link)\n",
    "    #html object for images\n",
    "    images_html = browser.html\n",
    "    #Parse HTML with Beautiful Soup for every individual hemisphere information website\n",
    "    soup = bs(images_html, 'html.parser')\n",
    "    #pull link for full image\n",
    "    img_url = main_link + soup.find('img', class_='wide-image').get('src')\n",
    "    # Append the retreived information into a list of dictionaries \n",
    "    hemisphere_urls.append({\"title\" : title, \"img_url\" : img_url})\n",
    "    \n",
    "hemisphere_urls"
   ]
  },
  {
   "cell_type": "code",
   "execution_count": null,
   "metadata": {},
   "outputs": [],
   "source": []
  }
 ],
 "metadata": {
  "kernelspec": {
   "display_name": "Python [conda env:pythondata] *",
   "language": "python",
   "name": "conda-env-pythondata-py"
  },
  "language_info": {
   "codemirror_mode": {
    "name": "ipython",
    "version": 3
   },
   "file_extension": ".py",
   "mimetype": "text/x-python",
   "name": "python",
   "nbconvert_exporter": "python",
   "pygments_lexer": "ipython3",
   "version": "3.8.5"
  }
 },
 "nbformat": 4,
 "nbformat_minor": 4
}
